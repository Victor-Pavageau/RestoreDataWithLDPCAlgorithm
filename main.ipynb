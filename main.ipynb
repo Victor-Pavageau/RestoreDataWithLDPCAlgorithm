{
  "cells": [
    {
      "attachments": {},
      "cell_type": "markdown",
      "metadata": {},
      "source": [
        "To run this code you must add the following dependencies :\n",
        "\n",
        "pip install pyldpc\n",
        "pip install numpy"
      ]
    },
    {
      "cell_type": "code",
      "execution_count": 1,
      "metadata": {
        "id": "mjRWbDM6x_Ho"
      },
      "outputs": [],
      "source": [
        "import numpy as np\n",
        "from pyldpc import make_ldpc, decode, get_message\n",
        "import random"
      ]
    },
    {
      "cell_type": "code",
      "execution_count": 5,
      "metadata": {},
      "outputs": [],
      "source": [
        "def array_to_dna(array):\n",
        "  if (array[0] == 0):\n",
        "    if (array[1] == 0):\n",
        "      return \"A\"\n",
        "    return \"T\"\n",
        "  if (array[1] == 0):\n",
        "    return \"C\"\n",
        "  return \"G\"\n",
        "\n",
        "def dna_to_array(dna):\n",
        "  if (dna == \"A\"):\n",
        "    return [0, 0]\n",
        "  elif (dna == \"T\"):\n",
        "    return [0, 1]\n",
        "  elif (dna == \"C\"):\n",
        "    return [1, 0]\n",
        "  elif (dna == \"G\"):\n",
        "    return [1, 1]\n"
      ]
    },
    {
      "cell_type": "code",
      "execution_count": 23,
      "metadata": {
        "id": "IOllQAzJdStM"
      },
      "outputs": [
        {
          "name": "stdout",
          "output_type": "stream",
          "text": [
            "Initial message (301 bits) : [1, 1, 0, 1, 0, 0, 0, 1, 0, 1, 1, 1, 1, 1, 0, 1, 1, 1, 0, 1, 1, 0, 1, 0, 1, 1, 0, 0, 0, 0, 1, 0, 1, 1, 1, 0, 0, 1, 0, 0, 1, 1, 0, 1, 0, 0, 0, 1, 0, 1, 0, 1, 0, 0, 0, 0, 0, 0, 1, 1, 0, 1, 1, 1, 0, 0, 0, 0, 1, 0, 0, 0, 1, 0, 0, 0, 0, 1, 0, 1, 1, 1, 1, 1, 1, 0, 1, 0, 0, 1, 0, 1, 1, 1, 0, 0, 0, 0, 1, 0, 0, 1, 0, 1, 0, 1, 1, 1, 1, 1, 0, 0, 0, 0, 1, 1, 1, 1, 0, 0, 0, 1, 0, 1, 0, 1, 1, 0, 0, 1, 0, 0, 1, 0, 0, 1, 0, 0, 0, 0, 1, 1, 0, 0, 0, 1, 1, 0, 0, 0, 1, 0, 1, 0, 0, 0, 0, 0, 0, 0, 0, 0, 1, 0, 0, 0, 1, 1, 0, 0, 0, 0, 1, 1, 1, 0, 0, 1, 0, 0, 1, 1, 0, 0, 0, 1, 0, 0, 0, 1, 1, 1, 0, 0, 0, 0, 0, 0, 0, 1, 1, 1, 1, 0, 0, 0, 0, 1, 0, 1, 0, 0, 1, 1, 1, 1, 1, 1, 1, 0, 1, 1, 1, 0, 0, 0, 0, 1, 0, 1, 1, 1, 0, 1, 0, 0, 1, 1, 1, 1, 1, 0, 0, 0, 1, 1, 0, 1, 0, 0, 0, 1, 1, 1, 0, 1, 0, 1, 1, 1, 1, 0, 0, 1, 0, 1, 1, 0, 0, 1, 1, 0, 1, 1, 0, 1, 0, 1, 1, 1, 1, 1, 1, 0, 1, 0, 0, 1, 0, 0, 0, 1, 0, 0, 1, 1, 1, 1, 0, 1, 1]\n",
            "\n",
            "Encoded message with LDPC error codes : [[0 0]\n",
            " [0 0]\n",
            " [0 0]\n",
            " ...\n",
            " [0 0]\n",
            " [0 0]\n",
            " [0 0]]\n",
            "\n",
            "Encoded message with LDPC error codes 10% altered : [[1 1]\n",
            " [0 0]\n",
            " [0 0]\n",
            " ...\n",
            " [0 0]\n",
            " [0 0]\n",
            " [0 0]] \n",
            "\n",
            "Encoded DNA message with LDPC error codes 10% altered : ['G', 'A', 'A', 'A', 'A', 'A', 'A', 'A', 'A', 'A', 'G', 'A', 'A', 'A', 'A', 'A', 'A', 'A', 'A', 'A', 'G', 'A', 'A', 'A', 'A', 'A', 'A', 'A', 'A', 'A', 'G', 'A', 'A', 'A', 'A', 'A', 'A', 'A', 'A', 'A', 'G', 'A', 'A', 'A', 'A', 'A', 'A', 'A', 'A', 'A', 'G', 'A', 'A', 'A', 'A', 'A', 'A', 'A', 'A', 'A', 'G', 'A', 'A', 'A', 'A', 'A', 'A', 'A', 'A', 'A', 'G', 'A', 'A', 'A', 'A', 'A', 'A', 'A', 'A', 'A', 'G', 'A', 'A', 'A', 'A', 'A', 'A', 'A', 'A', 'A', 'G', 'A', 'A', 'A', 'A', 'A', 'A', 'A', 'A', 'A', 'G', 'A', 'A', 'A', 'A', 'A', 'A', 'A', 'A', 'A', 'G', 'A', 'A', 'A', 'A', 'A', 'A', 'A', 'A', 'A', 'G', 'A', 'A', 'A', 'A', 'A', 'A', 'A', 'A', 'A', 'G', 'A', 'A', 'A', 'A', 'A', 'A', 'A', 'A', 'A', 'G', 'A', 'A', 'A', 'A', 'A', 'A', 'A', 'A', 'A', 'G', 'A', 'A', 'A', 'A', 'A', 'A', 'A', 'A', 'A', 'G', 'A', 'A', 'A', 'A', 'A', 'A', 'A', 'A', 'A', 'G', 'A', 'A', 'A', 'A', 'A', 'A', 'A', 'A', 'A', 'G', 'A', 'A', 'A', 'A', 'A', 'A', 'A', 'A', 'A', 'G', 'A', 'A', 'A', 'A', 'A', 'A', 'A', 'A', 'A', 'G', 'A', 'A', 'A', 'A', 'A', 'A', 'A', 'A', 'A', 'G', 'A', 'A', 'A', 'A', 'A', 'A', 'A', 'A', 'A', 'G', 'A', 'A', 'A', 'A', 'A', 'A', 'A', 'A', 'A', 'G', 'A', 'A', 'A', 'A', 'A', 'A', 'A', 'A', 'A', 'G', 'A', 'A', 'A', 'A', 'A', 'A', 'A', 'A', 'A', 'G', 'A', 'A', 'A', 'A', 'A', 'A', 'A', 'A', 'A', 'G', 'A', 'A', 'A', 'A', 'A', 'A', 'A', 'A', 'A', 'G', 'A', 'A', 'A', 'A', 'A', 'A', 'A', 'A', 'A', 'G', 'A', 'A', 'A', 'A', 'A', 'A', 'A', 'A', 'A', 'G', 'A', 'A', 'A', 'A', 'A', 'A', 'A', 'A', 'A', 'G', 'A', 'A', 'A', 'A', 'A', 'A', 'A', 'A', 'A', 'G', 'A', 'A', 'A', 'A', 'A', 'A', 'A', 'A', 'A', 'G', 'A', 'A', 'A', 'A', 'A', 'A', 'A', 'A', 'A', 'G', 'A', 'A', 'A', 'A', 'A', 'A', 'A', 'A', 'A', 'G', 'A', 'A', 'A', 'A', 'A', 'A', 'A', 'A', 'A', 'G', 'A', 'A', 'A', 'A', 'A', 'A', 'A', 'A', 'A', 'G', 'A', 'A', 'A', 'A', 'A', 'A', 'A', 'A', 'A', 'G', 'A', 'A', 'A', 'A', 'A', 'A', 'A', 'A', 'A', 'G', 'A', 'A', 'A', 'A', 'A', 'A', 'A', 'A', 'A', 'G', 'A', 'A', 'A', 'A', 'A', 'A', 'A', 'A', 'A', 'G', 'A', 'A', 'A', 'A', 'A', 'A', 'A', 'A', 'A', 'G', 'A', 'A', 'A', 'A', 'A', 'A', 'A', 'A', 'A', 'G', 'A', 'A', 'A', 'A', 'A', 'A', 'A', 'A', 'A', 'G', 'A', 'A', 'A', 'A', 'A', 'A', 'A', 'A', 'A', 'G', 'A', 'A', 'A', 'A', 'A', 'A', 'A', 'A', 'A', 'G', 'A', 'A', 'A', 'A', 'A', 'A', 'A', 'A', 'A', 'G', 'A', 'A', 'A', 'A', 'A', 'A', 'A', 'A', 'A', 'G', 'A', 'A', 'A', 'A', 'A', 'A', 'A', 'A', 'A', 'G', 'A', 'A', 'A', 'A', 'A', 'A', 'A', 'A', 'A', 'G', 'A', 'A', 'A', 'A', 'A', 'A', 'A', 'A', 'A', 'G', 'A', 'A', 'A', 'A', 'A', 'A', 'A', 'A', 'A', 'G', 'A', 'A', 'A', 'A', 'A', 'A', 'A', 'A', 'A', 'G', 'A', 'A', 'A', 'A', 'A', 'A', 'A', 'A', 'A', 'G', 'A', 'A', 'A', 'A', 'A', 'A', 'A', 'A', 'A', 'G', 'A', 'A', 'A', 'A', 'A', 'A', 'A', 'A', 'A', 'G', 'A', 'A', 'A', 'A', 'A', 'A', 'A', 'A', 'A', 'G', 'A', 'A', 'A', 'A', 'A', 'A', 'A', 'A', 'A', 'G', 'A', 'A', 'A', 'A', 'A', 'A', 'A', 'A', 'A', 'G', 'A', 'A', 'A', 'A', 'A', 'A', 'A', 'A', 'A', 'G', 'A', 'A', 'A', 'A', 'A', 'A', 'A', 'A', 'A', 'G', 'A', 'A', 'A', 'A', 'A', 'A', 'A', 'A', 'A', 'G', 'A', 'A', 'A', 'A', 'A', 'A', 'A', 'A', 'A', 'G', 'A', 'A', 'A', 'A', 'A', 'A', 'A', 'A', 'A', 'G', 'A', 'A', 'A', 'A', 'A', 'A', 'A', 'A', 'A', 'G', 'A', 'A', 'A', 'A', 'A', 'A', 'A', 'A', 'A', 'G', 'A', 'A', 'A', 'A', 'A', 'A', 'A', 'A', 'A', 'G', 'A', 'A', 'A', 'A', 'A', 'A', 'A', 'A', 'A', 'G', 'A', 'A', 'A', 'A', 'A', 'A', 'A', 'A', 'A', 'G', 'A', 'A', 'A', 'A', 'A', 'A', 'A', 'A', 'A', 'G', 'A', 'A', 'A', 'A', 'A', 'A', 'A', 'A', 'A', 'G', 'A', 'A', 'A', 'A', 'A', 'A', 'A', 'A', 'A', 'G', 'A', 'A', 'A', 'A', 'A', 'A', 'A', 'A', 'A', 'G', 'A', 'A', 'A', 'A', 'A', 'A', 'A', 'A', 'A', 'G', 'A', 'A', 'A', 'A', 'A', 'A', 'A', 'A', 'A', 'G', 'A', 'A', 'A', 'A', 'A', 'A', 'A', 'A', 'A', 'G', 'A', 'A', 'A', 'A', 'A', 'A', 'A', 'A', 'A', 'G', 'A', 'A', 'A', 'A', 'A', 'A', 'A', 'A', 'A', 'G', 'A', 'A', 'A', 'A', 'A', 'A', 'A', 'A', 'A', 'G', 'A', 'A', 'A', 'A', 'A', 'A', 'A', 'A', 'A', 'G', 'A', 'A', 'A', 'A', 'A', 'A', 'A', 'A', 'A', 'G', 'A', 'A', 'A', 'A', 'A', 'A', 'A', 'A', 'A', 'G', 'A', 'A', 'A', 'A', 'A', 'A', 'A', 'A', 'A', 'G', 'A', 'A', 'A', 'A', 'A', 'A', 'A', 'A', 'A', 'G', 'A', 'A', 'A', 'A', 'A', 'A', 'A', 'A', 'A', 'G', 'A', 'A', 'A', 'A', 'A', 'A', 'A', 'A', 'A', 'G', 'A', 'A', 'A', 'A', 'A', 'A', 'A', 'A', 'A', 'G', 'A', 'A', 'A', 'A', 'A', 'A', 'A', 'A', 'A', 'G', 'A', 'A', 'A', 'A', 'A', 'A', 'A', 'A', 'A', 'G', 'A', 'A', 'A', 'A', 'A', 'A', 'A', 'A', 'A', 'G', 'A', 'A', 'A', 'A', 'A', 'A', 'A', 'A', 'A'] \n",
            "\n",
            "Final message : [0 0 1 0 0 1 1 0 0 0 0 0 0 0 0 1 0 0 0 0 0 0 0 0 0 0 1 0 1 0 0 1 1 1 0 1 0\n",
            " 1 0 0 0 1 0 0 0 0 0 0 1 0 0 0 1 0 1 0 1 0 0 1 1 1 1 1 1 0 0 0 0 1 0 0 0 1\n",
            " 0 0 0 1 1 0 1 0 0 0 1 0 0 0 0 0 0 0 0 0 0 1 0 0 1 0 0 1 0 0 1 1 0 1 1 0 0\n",
            " 1 0 0 0 0 0 0 0 0 1 0 1 0 0 0 0 1 0 0 1 0 1 0 0 0 0 0 0 0 1 1 0 0 0 0 1 1\n",
            " 0 1 0 1 0 0 1 0 1 1 0 0 0 1 0 0 0 0 0 0 0 0 1 0 0 0 1 0 0 1 0 0 1 0 0 0 1\n",
            " 1 0 0 1 1 0 1 1 0 1 1 0 1 0 0 0 1 0 0 1 0 0 0 0 0 1 1 1 0 0 0 0 1 0 0 0 0\n",
            " 0 0 0 0 0 1 1 1 1 0 0 0 0 0 1 0 0 1 1 0 1 0 0 0 0 0 0 1 0 0 1 0 0 0 0 0 0\n",
            " 0 0 0 0 1 1 1 1 1 0 0 0 0 0 0 0 0 0 0 0 0 0 0 1 0 0 0 0 0 1 0 0 0 1 0 0 0\n",
            " 1 0 0 1 1]\n",
            "\n",
            "Data integrity percentage : 50.83056478405316%\n"
          ]
        }
      ],
      "source": [
        "n = 900  # Initial message size\n",
        "d_v = 2  # Degree of variable nodes\n",
        "d_c = 3  # Degree of parity nodes\n",
        "initial_message = []\n",
        "\n",
        "# Generation of LDPC code parity matrix H and generation matrix G\n",
        "H, G = make_ldpc(n, d_v, d_c)\n",
        "\n",
        "n, number_of_bits = G.shape\n",
        "\n",
        "for loop in range(number_of_bits):\n",
        "  initial_message.append(random.randint(0,1))\n",
        "print(\"Initial message ({} bits) : {}\\n\".format(number_of_bits, initial_message))\n",
        "\n",
        "n_trials = 2\n",
        "V = np.tile(initial_message, (n_trials, 1)).T\n",
        "\n",
        "encoded_matrix = decode(H, V, 20)\n",
        "print(\"Encoded message with LDPC error codes : {}\\n\".format(encoded_matrix))\n",
        "\n",
        "altered_encoded_matrix = encoded_matrix\n",
        "alteration_pourcent = 10\n",
        "\n",
        "for array in range(int(altered_encoded_matrix.size / n_trials)):\n",
        "  if(array % (100/alteration_pourcent) == 0):\n",
        "    for i in range(altered_encoded_matrix[array].size):\n",
        "      if (altered_encoded_matrix[array][i] == 0):\n",
        "        altered_encoded_matrix[array][i] = 1\n",
        "      else:\n",
        "        altered_encoded_matrix[array][i] = 0\n",
        "print(r\"Encoded message with LDPC error codes {}% altered : {}\".format(alteration_pourcent, altered_encoded_matrix),\"\\n\")\n",
        "\n",
        "dna_altered_encoded_matrix = []\n",
        "for i in range(int(altered_encoded_matrix.size / n_trials)):\n",
        "  dna_altered_encoded_matrix.append(array_to_dna(altered_encoded_matrix[i]))\n",
        "print(r\"Encoded DNA message with LDPC error codes {}% altered : {}\".format(alteration_pourcent, dna_altered_encoded_matrix),\"\\n\")\n",
        "\n",
        "for i in range(n_trials):\n",
        "  final_message = get_message(G, altered_encoded_matrix[:, i]) # Recovering the decoded message\n",
        "print(\"Final message : {}\\n\".format(final_message))\n",
        "\n",
        "errorpourcent = 0.0\n",
        "for error in range(final_message.size):\n",
        "  if(final_message[error] != initial_message[error]):\n",
        "    errorpourcent += 1\n",
        "\n",
        "errorpourcent /= final_message.size\n",
        "\n",
        "print(\"Data integrity percentage : {}%\".format(100 - errorpourcent*100))"
      ]
    }
  ],
  "metadata": {
    "accelerator": "GPU",
    "colab": {
      "gpuType": "T4",
      "provenance": []
    },
    "gpuClass": "standard",
    "kernelspec": {
      "display_name": "Python 3",
      "name": "python3"
    },
    "language_info": {
      "codemirror_mode": {
        "name": "ipython",
        "version": 3
      },
      "file_extension": ".py",
      "mimetype": "text/x-python",
      "name": "python",
      "nbconvert_exporter": "python",
      "pygments_lexer": "ipython3",
      "version": "3.9.13"
    }
  },
  "nbformat": 4,
  "nbformat_minor": 0
}
