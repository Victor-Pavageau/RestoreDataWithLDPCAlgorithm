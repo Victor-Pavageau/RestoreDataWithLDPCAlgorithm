{
  "cells": [
    {
      "cell_type": "code",
      "execution_count": 1,
      "metadata": {
        "colab": {
          "base_uri": "https://localhost:8080/"
        },
        "id": "q7q27WDSqr5S",
        "outputId": "0304987b-2bda-40c9-e468-747ee24eb92a"
      },
      "outputs": [
        {
          "name": "stdout",
          "output_type": "stream",
          "text": [
            "Requirement already satisfied: pyldpc in c:\\users\\victo\\appdata\\local\\packages\\pythonsoftwarefoundation.python.3.9_qbz5n2kfra8p0\\localcache\\local-packages\\python39\\site-packages (0.7.9)\n",
            "Requirement already satisfied: scipy in c:\\users\\victo\\appdata\\local\\packages\\pythonsoftwarefoundation.python.3.9_qbz5n2kfra8p0\\localcache\\local-packages\\python39\\site-packages (from pyldpc) (1.10.1)\n",
            "Requirement already satisfied: numpy in c:\\users\\victo\\appdata\\local\\packages\\pythonsoftwarefoundation.python.3.9_qbz5n2kfra8p0\\localcache\\local-packages\\python39\\site-packages (from pyldpc) (1.24.2)\n",
            "Requirement already satisfied: numba in c:\\users\\victo\\appdata\\local\\packages\\pythonsoftwarefoundation.python.3.9_qbz5n2kfra8p0\\localcache\\local-packages\\python39\\site-packages (from pyldpc) (0.57.0)\n",
            "Requirement already satisfied: llvmlite<0.41,>=0.40.0dev0 in c:\\users\\victo\\appdata\\local\\packages\\pythonsoftwarefoundation.python.3.9_qbz5n2kfra8p0\\localcache\\local-packages\\python39\\site-packages (from numba->pyldpc) (0.40.0)\n"
          ]
        },
        {
          "name": "stderr",
          "output_type": "stream",
          "text": [
            "WARNING: Ignoring invalid distribution -atplotlib (c:\\users\\victo\\appdata\\local\\packages\\pythonsoftwarefoundation.python.3.9_qbz5n2kfra8p0\\localcache\\local-packages\\python39\\site-packages)\n",
            "WARNING: Ignoring invalid distribution -atplotlib (c:\\users\\victo\\appdata\\local\\packages\\pythonsoftwarefoundation.python.3.9_qbz5n2kfra8p0\\localcache\\local-packages\\python39\\site-packages)\n",
            "WARNING: Ignoring invalid distribution -atplotlib (c:\\users\\victo\\appdata\\local\\packages\\pythonsoftwarefoundation.python.3.9_qbz5n2kfra8p0\\localcache\\local-packages\\python39\\site-packages)\n",
            "WARNING: Ignoring invalid distribution -atplotlib (c:\\users\\victo\\appdata\\local\\packages\\pythonsoftwarefoundation.python.3.9_qbz5n2kfra8p0\\localcache\\local-packages\\python39\\site-packages)\n",
            "WARNING: Ignoring invalid distribution -atplotlib (c:\\users\\victo\\appdata\\local\\packages\\pythonsoftwarefoundation.python.3.9_qbz5n2kfra8p0\\localcache\\local-packages\\python39\\site-packages)\n",
            "WARNING: Ignoring invalid distribution -atplotlib (c:\\users\\victo\\appdata\\local\\packages\\pythonsoftwarefoundation.python.3.9_qbz5n2kfra8p0\\localcache\\local-packages\\python39\\site-packages)\n",
            "\n",
            "[notice] A new release of pip is available: 23.0.1 -> 23.1.2\n",
            "[notice] To update, run: C:\\Users\\victo\\AppData\\Local\\Microsoft\\WindowsApps\\PythonSoftwareFoundation.Python.3.9_qbz5n2kfra8p0\\python.exe -m pip install --upgrade pip\n"
          ]
        }
      ],
      "source": [
        "%pip install pyldpc"
      ]
    },
    {
      "cell_type": "code",
      "execution_count": 1,
      "metadata": {
        "id": "mjRWbDM6x_Ho"
      },
      "outputs": [],
      "source": [
        "import numpy as np\n",
        "from pyldpc import make_ldpc, decode, get_message\n",
        "import random"
      ]
    },
    {
      "cell_type": "code",
      "execution_count": 7,
      "metadata": {
        "id": "IOllQAzJdStM"
      },
      "outputs": [
        {
          "name": "stdout",
          "output_type": "stream",
          "text": [
            "Number of base bits: 201\n",
            "Message initial :  [0, 1, 0, 1, 0, 1, 0, 0, 0, 1, 0, 1, 0, 1, 1, 0, 0, 0, 1, 0, 1, 0, 0, 1, 1, 0, 0, 1, 0, 0, 1, 1, 1, 0, 0, 1, 0, 1, 0, 1, 1, 0, 0, 0, 0, 1, 1, 0, 0, 0, 0, 1, 1, 1, 0, 1, 1, 1, 0, 0, 0, 1, 0, 0, 1, 0, 0, 1, 0, 1, 0, 0, 1, 1, 0, 1, 0, 1, 0, 0, 1, 0, 1, 0, 0, 1, 1, 0, 1, 1, 0, 0, 0, 0, 0, 0, 1, 0, 1, 1, 0, 0, 1, 1, 0, 0, 0, 1, 1, 0, 1, 0, 1, 1, 1, 0, 1, 1, 1, 0, 0, 0, 1, 0, 1, 1, 0, 0, 0, 0, 1, 1, 1, 0, 1, 0, 0, 0, 1, 0, 1, 1, 1, 0, 1, 1, 0, 0, 0, 0, 1, 0, 1, 1, 0, 1, 0, 1, 0, 0, 0, 1, 0, 0, 0, 0, 1, 0, 1, 1, 0, 1, 0, 1, 0, 0, 1, 0, 1, 1, 1, 0, 0, 1, 1, 0, 0, 0, 1, 1, 1, 0, 0, 1, 0, 0, 0, 1, 0, 0, 1]\n",
            "Message avec code d'erreur LDPC :  [[0 0 0 ... 0 0 0]\n",
            " [0 0 0 ... 0 0 0]\n",
            " [0 0 0 ... 0 0 0]\n",
            " ...\n",
            " [0 0 0 ... 0 0 0]\n",
            " [0 0 0 ... 0 0 0]\n",
            " [0 0 0 ... 0 0 0]]\n",
            "Message avec code d'erreur LDPC altéré à  5 %:  [[1 0 0 ... 0 0 0]\n",
            " [0 0 0 ... 0 0 0]\n",
            " [0 0 0 ... 0 0 0]\n",
            " ...\n",
            " [0 0 0 ... 0 0 0]\n",
            " [0 0 0 ... 0 0 0]\n",
            " [0 0 0 ... 0 0 0]]\n",
            "Message final :  [0 0 0 0 0 0 0 0 0 0 0 0 0 0 0 0 0 0 0 0 0 0 0 0 0 0 0 0 0 0 0 0 0 0 0 0 0\n",
            " 0 0 0 0 0 0 0 0 0 0 0 0 0 0 0 0 0 0 0 0 0 0 0 0 0 0 0 0 0 0 0 0 0 0 0 0 0\n",
            " 0 0 0 0 0 0 0 0 0 0 0 0 0 0 0 0 0 0 0 0 0 0 0 0 0 0 0 0 0 0 0 0 0 0 0 0 0\n",
            " 0 0 0 0 0 0 0 0 0 0 0 0 0 0 0 0 0 0 0 0 0 0 0 0 0 0 0 0 0 0 0 0 0 0 0 0 0\n",
            " 0 0 0 0 0 0 0 0 0 0 0 0 0 0 0 0 0 0 0 0 0 0 0 0 0 0 0 0 0 0 0 0 0 0 0 0 0\n",
            " 0 0 0 0 0 0 0 0 0 0 0 0 0 0 0 0]\n",
            "Pourcentage d'intégrité des données :  54.72636815920398 %\n"
          ]
        }
      ],
      "source": [
        "n = 6000  # Nombre total de bits du code\n",
        "d_v = 2  # Degré des noeuds variables\n",
        "d_c = 3  # Degré des noeuds de parité\n",
        "\n",
        "# Génération de la matrice de parité H et de la matrice de génération G du code LDPC\n",
        "H, G = make_ldpc(n, d_v, d_c)\n",
        "\n",
        "# Affichage du nombre de bits codés\n",
        "n, number_of_bits = G.shape\n",
        "print(\"Number of base bits:\", number_of_bits)\n",
        "\n",
        "# Initialisation des listes pour stocker les taux d'erreur\n",
        "errors = []\n",
        "\n",
        "initial_message = []\n",
        "\n",
        "for loop in range(number_of_bits):\n",
        "  initial_message.append(random.randint(0,1))\n",
        "print(\"Message initial : \", initial_message)\n",
        "\n",
        "n_trials = 25  # number of transmissions with different noise\n",
        "V = np.tile(initial_message, (n_trials, 1)).T  # stack v in columns\n",
        "\n",
        "encoded_matrix = decode(H, V, 20)  # Décodage du message\n",
        "print(\"Message avec code d'erreur LDPC : \", encoded_matrix)\n",
        "\n",
        "altered_encoded_matrix = encoded_matrix\n",
        "alteration_pourcent = 15\n",
        "\n",
        "for array in range(int(altered_encoded_matrix.size / n_trials)):\n",
        "  if(array % (100/alteration_pourcent) == 0):\n",
        "    if (altered_encoded_matrix[array][0] == 0):\n",
        "      altered_encoded_matrix[array][0] = 1\n",
        "    else:\n",
        "      altered_encoded_matrix[array][0] = 0\n",
        "\n",
        "print(\"Message avec code d'erreur LDPC altéré à \", alteration_pourcent, \"%: \", altered_encoded_matrix)\n",
        "\n",
        "errorpourcent = 0.0\n",
        "\n",
        "for i in range(n_trials):\n",
        "  final_message = get_message(G, altered_encoded_matrix[:, i]) # Récupération du message décodé\n",
        "\n",
        "print(\"Message final : \", final_message)\n",
        "\n",
        "for error in range(final_message.size):\n",
        "  if(final_message[error] != initial_message[error]):\n",
        "    errorpourcent += 1\n",
        "\n",
        "errorpourcent /= final_message.size\n",
        "\n",
        "print(\"Pourcentage d'intégrité des données : \", 100 - errorpourcent*100, \"%\")"
      ]
    }
  ],
  "metadata": {
    "accelerator": "GPU",
    "colab": {
      "gpuType": "T4",
      "provenance": []
    },
    "gpuClass": "standard",
    "kernelspec": {
      "display_name": "Python 3",
      "name": "python3"
    },
    "language_info": {
      "codemirror_mode": {
        "name": "ipython",
        "version": 3
      },
      "file_extension": ".py",
      "mimetype": "text/x-python",
      "name": "python",
      "nbconvert_exporter": "python",
      "pygments_lexer": "ipython3",
      "version": "3.9.13"
    }
  },
  "nbformat": 4,
  "nbformat_minor": 0
}
